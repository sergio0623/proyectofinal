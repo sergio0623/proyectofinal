{
  "nbformat": 4,
  "nbformat_minor": 0,
  "metadata": {
    "colab": {
      "name": "Apoyo.ipynb",
      "provenance": [],
      "authorship_tag": "ABX9TyNUpImm9/1LxJlgkA9gOjtI",
      "include_colab_link": true
    },
    "kernelspec": {
      "name": "python3",
      "display_name": "Python 3"
    },
    "language_info": {
      "name": "python"
    }
  },
  "cells": [
    {
      "cell_type": "markdown",
      "metadata": {
        "id": "view-in-github",
        "colab_type": "text"
      },
      "source": [
        "<a href=\"https://colab.research.google.com/github/sergio0623/proyectofinal/blob/Sergio/Apoyo.ipynb\" target=\"_parent\"><img src=\"https://colab.research.google.com/assets/colab-badge.svg\" alt=\"Open In Colab\"/></a>"
      ]
    },
    {
      "cell_type": "code",
      "execution_count": null,
      "metadata": {
        "id": "QExb9edX27-N"
      },
      "outputs": [],
      "source": [
        "from datetime import date\n",
        "\n",
        "class Apoyo:\n",
        "    NombreApoyo:str\n",
        "    TipoApoyo:str\n",
        "    FechaApoyo:date\n",
        "\n",
        "    def BuscarApoyo(self):\n",
        "        print(\"Se definió apoyo\")\n",
        "    \n",
        "    def ActualizaciónApoyo(self):\n",
        "        print(\"Se actualiza apoyo\")\n",
        "\n",
        "\n",
        "        def main():\n",
        "            Apoyo= int(input(\"Ingrese el tipo de apoyo: \"))\n",
        "\n",
        "            for i in range(Apoyo):\n",
        "                    outfile = open('Apoyo.txt','a')\n",
        "                    NombreApoyo = input(\"Ingrese el nombre del apoyo: \")\n",
        "                    TipoApoyo= input(\"Ingrese el tipo de apoyo: \")\n",
        "                    outfile.write(\"Nombre del apoyo: \" + NombreApoyo + \"\\n\")\n",
        "                    outfile.write(\"Tipo de apoyo: \" +TipoApoyo + \"\\n\\n\")\n",
        "\n",
        "            main()"
      ]
    }
  ]
}