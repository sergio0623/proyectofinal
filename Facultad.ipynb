{
  "nbformat": 4,
  "nbformat_minor": 0,
  "metadata": {
    "colab": {
      "name": "Facultad.ipynb",
      "provenance": [],
      "authorship_tag": "ABX9TyNWft3jA8QkT4N6VlsUlyxH",
      "include_colab_link": true
    },
    "kernelspec": {
      "name": "python3",
      "display_name": "Python 3"
    },
    "language_info": {
      "name": "python"
    }
  },
  "cells": [
    {
      "cell_type": "markdown",
      "metadata": {
        "id": "view-in-github",
        "colab_type": "text"
      },
      "source": [
        "<a href=\"https://colab.research.google.com/github/sergio0623/proyectofinal/blob/Sergio/Facultad.ipynb\" target=\"_parent\"><img src=\"https://colab.research.google.com/assets/colab-badge.svg\" alt=\"Open In Colab\"/></a>"
      ]
    },
    {
      "cell_type": "code",
      "execution_count": null,
      "metadata": {
        "id": "TkUp_SU-12MC"
      },
      "outputs": [],
      "source": [
        "class Facultdad:\n",
        "    IdFacultad:str\n",
        "    NombreFacultad:str\n",
        "    programa=Programa\n",
        "    departamento=Departamento\n",
        "    decano=Decano\n",
        "\n",
        "    def BuscarFacultad(self):\n",
        "        print(\"Se definió facultad\")"
      ]
    }
  ]
}