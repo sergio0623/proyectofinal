{
  "nbformat": 4,
  "nbformat_minor": 0,
  "metadata": {
    "colab": {
      "name": "Asignatura.ipynb",
      "provenance": [],
      "authorship_tag": "ABX9TyPdZbJtF2jsBC94Z6blaZuZ",
      "include_colab_link": true
    },
    "kernelspec": {
      "name": "python3",
      "display_name": "Python 3"
    },
    "language_info": {
      "name": "python"
    }
  },
  "cells": [
    {
      "cell_type": "markdown",
      "metadata": {
        "id": "view-in-github",
        "colab_type": "text"
      },
      "source": [
        "<a href=\"https://colab.research.google.com/github/sergio0623/proyectofinal/blob/Sergio/Asignatura.ipynb\" target=\"_parent\"><img src=\"https://colab.research.google.com/assets/colab-badge.svg\" alt=\"Open In Colab\"/></a>"
      ]
    },
    {
      "cell_type": "code",
      "execution_count": null,
      "metadata": {
        "id": "emzAUQhH1Gag"
      },
      "outputs": [],
      "source": [
        "class Asignatura:\n",
        "    CodAsignatura:str\n",
        "    NomAsignatura:str\n",
        "    docente=Docente\n",
        "    \n",
        "      \n",
        "    def _int_(self,programa:Programa,grupo:Grupo):\n",
        "        self.Programa=programa\n",
        "        self.Grupo=grupo\n",
        "\n",
        "\n",
        "        def BuscarAsignatura(self):\n",
        "            print(\"Se definió la asignatura \")\n",
        "\n",
        "        def CrearAsignatura(self):\n",
        "            print(\"Se creó la asignatura\")\n",
        "\n",
        "        def ModificarAsignatura(self):\n",
        "            print(\"Se modificó la asignatura\")"
      ]
    }
  ]
}